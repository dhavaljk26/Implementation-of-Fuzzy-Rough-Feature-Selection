{
 "cells": [
  {
   "cell_type": "code",
   "execution_count": 1,
   "metadata": {},
   "outputs": [],
   "source": [
    "import numpy as np\n",
    "import skfuzzy as fuzz\n",
    "import math"
   ]
  },
  {
   "cell_type": "code",
   "execution_count": 2,
   "metadata": {},
   "outputs": [],
   "source": [
    "# def fuzzify(arr):\n",
    "#     mem = np.empty((2, arr.shape[0]))\n",
    "#     mem[0] = fuzz.membership.trapmf(arr, [-1, -1, -0.5, 0])\n",
    "#     mem[1] = fuzz.membership.trimf(arr, [-0.5, 0, 0.5])\n",
    "#     return np.transpose(mem)\n",
    "\n",
    "# def fuzzify_data(data):\n",
    "#     data_transpose = np.transpose(data)\n",
    "#     fuzzy_data_transpose = np.empty((data_transpose.shape[0], data_transpose.shape[1], 2))\n",
    "\n",
    "#     for i in range(0, data_transpose.shape[0]):\n",
    "#         fuzzy_data_transpose[i] = fuzzify(data_transpose[i])\n",
    "        \n",
    "#     fuzzy_data = np.transpose(fuzzy_data_transpose)  \n",
    "#     return fuzzy_data   "
   ]
  },
  {
   "cell_type": "code",
   "execution_count": 3,
   "metadata": {},
   "outputs": [],
   "source": [
    "def t_norm(x, y):\n",
    "    return max(x+y-1.0, 0.0)\n",
    "\n",
    "def fuzzy_implicator(x, y):\n",
    "    return min(1.0-x+y, 1.0)"
   ]
  },
  {
   "cell_type": "code",
   "execution_count": 4,
   "metadata": {},
   "outputs": [],
   "source": [
    "def attribute_fuzzy_similatity_measure(arr):\n",
    "    \n",
    "    arr_2 = np.zeros( (arr.shape[0], arr.shape[0]) )\n",
    "    sigma = math.sqrt((np.var(arr, ddof=1)))\n",
    "    \n",
    "    if sigma == 0.0:\n",
    "        return np.ones( (arr.shape[0], arr.shape[0]) )\n",
    "    \n",
    "    for x in range(arr.shape[0]):\n",
    "        for y in range(arr.shape[0]):\n",
    "            arr_2[x][y] = arr_2[y][x] = max(0.0, min( float(arr[y]-arr[x]+sigma)/sigma, float(arr[x]+sigma-arr[y])/sigma))\n",
    "\n",
    "    for i in range(arr_2.shape[0]):\n",
    "        for j in range(arr_2.shape[0]):\n",
    "            for k in range(arr_2.shape[0]):\n",
    "                arr_2[j][k] = max(arr_2[j][k], t_norm(arr_2[j][i], arr_2[i][k]))\n",
    "    return arr_2"
   ]
  },
  {
   "cell_type": "code",
   "execution_count": 5,
   "metadata": {},
   "outputs": [],
   "source": [
    "def fuzzy_similatity_measure(data):\n",
    "    fsm = np.zeros( (data.shape[1]-1, data.shape[0], data.shape[0]) )\n",
    "    data_transpose = np.transpose(data)\n",
    "    \n",
    "    for i in range(data.shape[1]-1):\n",
    "        fsm[i] = attribute_fuzzy_similatity_measure(data_transpose[i])\n",
    "    \n",
    "    return fsm"
   ]
  },
  {
   "cell_type": "code",
   "execution_count": 6,
   "metadata": {},
   "outputs": [
    {
     "name": "stdout",
     "output_type": "stream",
     "text": [
      "[[[1.         1.         0.69939819 0.         0.         0.        ]\n",
      "  [1.         1.         0.69939819 0.         0.         0.        ]\n",
      "  [0.69939819 0.69939819 1.         0.         0.         0.        ]\n",
      "  [0.         0.         0.         1.         0.69939819 0.69939819]\n",
      "  [0.         0.         0.         0.69939819 1.         1.        ]\n",
      "  [0.         0.         0.         0.69939819 1.         1.        ]]\n",
      "\n",
      " [[1.         0.         0.56833415 1.         1.         0.        ]\n",
      "  [0.         1.         0.         0.         0.         0.13666831]\n",
      "  [0.56833415 0.         1.         0.56833415 0.56833415 0.        ]\n",
      "  [1.         0.         0.56833415 1.         1.         0.        ]\n",
      "  [1.         0.         0.56833415 1.         1.         0.        ]\n",
      "  [0.         0.13666831 0.         0.         0.         1.        ]]\n",
      "\n",
      " [[1.         0.         0.03551436 0.         0.         0.        ]\n",
      "  [0.         1.         0.03551436 0.51775718 0.51775718 0.51775718]\n",
      "  [0.03551436 0.03551436 1.         0.         0.         0.        ]\n",
      "  [0.         0.51775718 0.         1.         1.         1.        ]\n",
      "  [0.         0.51775718 0.         1.         1.         1.        ]\n",
      "  [0.         0.51775718 0.         1.         1.         1.        ]]]\n"
     ]
    }
   ],
   "source": [
    "data = np.array([\n",
    "        [-0.4, -0.3, -0.5, 0], \n",
    "        [-0.4,  0.2, -0.1, 1], \n",
    "        [-0.3, -0.4, -0.3, 0], \n",
    "        [ 0.3, -0.3,  0.0, 1], \n",
    "        [ 0.2, -0.3,  0.0, 1], \n",
    "        [ 0.2,  0.0,  0.0, 0]\n",
    "        ])\n"
   ]
  },
  {
   "cell_type": "code",
   "execution_count": 7,
   "metadata": {},
   "outputs": [],
   "source": [
    "def equivalence_class(data, decision_features):\n",
    "    E = dict()\n",
    "    s = data.shape\n",
    "    \n",
    "    for i in np.unique(np.transpose(data)[-1]):\n",
    "        E[int(i)] = set()\n",
    "        \n",
    "    for i in range(0, s[0]):\n",
    "        E[ int(data[i][s[1]-1]) ].add(i)\n",
    "                       \n",
    "    return E"
   ]
  },
  {
   "cell_type": "code",
   "execution_count": 8,
   "metadata": {},
   "outputs": [],
   "source": [
    "def present_in_set(s, element):\n",
    "    if element in s:\n",
    "        return 1\n",
    "    else: \n",
    "        return 0"
   ]
  },
  {
   "cell_type": "code",
   "execution_count": 17,
   "metadata": {},
   "outputs": [],
   "source": [
    "def dependency_measurement(data, conditional_features_set, equivalence_class, fsm, mode):\n",
    "    \n",
    "    mu_r = np.ones( (data.shape[0], data.shape[0]) )\n",
    "    \n",
    "    for i in conditional_features_set:\n",
    "        for x in range(data.shape[0]):\n",
    "            for y in range(data.shape[0]):\n",
    "                mu_r[x][y] = t_norm(mu_r[x][y], fsm[i][x][y])\n",
    "                \n",
    "    mu = np.zeros( (data.shape[0]) )\n",
    "    \n",
    "    for x in range(data.shape[0]):\n",
    "        for class_, eq_class in equivalence_class.items():\n",
    "            I = 1.0\n",
    "            if mode == 'boundary':\n",
    "                T = 0.0\n",
    "            for y in range(data.shape[0]):\n",
    "                I = min(I, fuzzy_implicator(mu_r[x][y], present_in_set(eq_class, y))) \n",
    "                if mode == 'boundary':\n",
    "                    T = max(T, t_norm(mu_r[x][y], present_in_set(eq_class, y)))\n",
    "            \n",
    "            if mode == 'boundary':\n",
    "                mu[x] += T\n",
    "            else:    \n",
    "                mu[x] = max(I, mu[x])    \n",
    "    return np.sum(mu)/mu.size"
   ]
  },
  {
   "cell_type": "code",
   "execution_count": 20,
   "metadata": {},
   "outputs": [],
   "source": [
    "def fuzzy_rough_quick_reduct(data, conditional_features, decision_features, mode='lower'):\n",
    "    \n",
    "    C = set(conditional_features)\n",
    "    D = set(decision_features)\n",
    "    R = set()\n",
    "    lambda_best = 0.0\n",
    "    lambda_prev = 0.00000001\n",
    "\n",
    "    fsm = fuzzy_similatity_measure(data)\n",
    "    equivalence_class_map = equivalence_class(data, decision_features)\n",
    "\n",
    "    while lambda_best != lambda_prev:\n",
    "        T = R.copy()\n",
    "        lambda_prev = lambda_best\n",
    "        \n",
    "        lambda_T = dependency_measurement(data, T, equivalence_class_map, fsm, mode)\n",
    "        \n",
    "        lambda_max = lambda_T\n",
    "        feature_to_add = None\n",
    "        \n",
    "        C_minus_R = C.difference(R)\n",
    "        for x in C_minus_R:\n",
    "            temp = set()\n",
    "            temp = R.copy()\n",
    "            temp.add(x)\n",
    "            lambda_temp = dependency_measurement(data, temp, equivalence_class_map, fsm, mode)\n",
    "            \n",
    "            if lambda_temp > lambda_max:\n",
    "                lambda_max = lambda_temp\n",
    "                feature_to_add = x\n",
    "         \n",
    "        if lambda_max > lambda_T:\n",
    "            print (x, lambda_max, lambda_best)\n",
    "            T.add(x)\n",
    "            lambda_best = lambda_max\n",
    "            \n",
    "        R = T.copy()\n",
    "    return R    \n",
    "        "
   ]
  },
  {
   "cell_type": "code",
   "execution_count": 21,
   "metadata": {},
   "outputs": [
    {
     "name": "stdout",
     "output_type": "stream",
     "text": [
      "2 0.4077880777518727 0.0\n",
      "1 1.0 0.4077880777518727\n",
      "{1, 2}\n"
     ]
    },
    {
     "name": "stderr",
     "output_type": "stream",
     "text": [
      "/home/dhavaljk26/.local/lib/python3.6/site-packages/ipykernel_launcher.py:15: FutureWarning: elementwise comparison failed; returning scalar instead, but in the future will perform elementwise comparison\n",
      "  from ipykernel import kernelapp as app\n",
      "/home/dhavaljk26/.local/lib/python3.6/site-packages/ipykernel_launcher.py:19: FutureWarning: elementwise comparison failed; returning scalar instead, but in the future will perform elementwise comparison\n",
      "/home/dhavaljk26/.local/lib/python3.6/site-packages/ipykernel_launcher.py:22: FutureWarning: elementwise comparison failed; returning scalar instead, but in the future will perform elementwise comparison\n"
     ]
    }
   ],
   "source": [
    "r = fuzzy_rough_quick_reduct(data, np.arange(data.shape[1]-1), np.array([data.shape[1]-1]), fsm)\n",
    "print(r)"
   ]
  },
  {
   "cell_type": "code",
   "execution_count": null,
   "metadata": {},
   "outputs": [],
   "source": []
  },
  {
   "cell_type": "code",
   "execution_count": null,
   "metadata": {},
   "outputs": [],
   "source": []
  }
 ],
 "metadata": {
  "kernelspec": {
   "display_name": "Python 3",
   "language": "python",
   "name": "python3"
  },
  "language_info": {
   "codemirror_mode": {
    "name": "ipython",
    "version": 3
   },
   "file_extension": ".py",
   "mimetype": "text/x-python",
   "name": "python",
   "nbconvert_exporter": "python",
   "pygments_lexer": "ipython3",
   "version": "3.6.6"
  }
 },
 "nbformat": 4,
 "nbformat_minor": 2
}
